{
 "cells": [
  {
   "cell_type": "code",
   "execution_count": 1,
   "id": "27d123c5-a772-45cc-9105-e1178c6bcaa0",
   "metadata": {},
   "outputs": [],
   "source": [
    "from mlflow import version\n",
    "from src.get_data import read_params\n",
    "import argparse\n",
    "import mlflow\n",
    "from mlflow.tracking import MlflowClient, client\n",
    "from pprint import pprint\n",
    "import joblib\n",
    "import os\n",
    "\n",
    "def log_production_model(config_path):\n",
    "    config = read_params(config_path)\n",
    "\n",
    "    mlflow_config = config[\"mlflow_config\"]\n",
    "    model_name = mlflow_config[\"registered_model_name\"]\n",
    "    remote_server_uri = mlflow_config[\"remote_server_uri\"]\n",
    "    \n",
    "    mlflow.set_tracking_uri(remote_server_uri)\n",
    "\n",
    "    runs = mlflow.search_runs(experiment_ids=1)\n",
    "    print(runs.head())\n",
    "    lowest = runs[\"metrics.mae\"].sort_values(ascending=True)[0]\n",
    "    lowest_run_id = runs[runs[\"metrics.mae\"]==lowest][\"run_id\"][0]\n",
    "\n",
    "    client = MlflowClient()\n",
    "    for mv in client.search_model_versions(f\"name='{model_name}'\"):\n",
    "        mv = dict(mv)\n",
    "\n",
    "        if mv[\"run_id\"] == lowest_run_id:\n",
    "            current_version = mv[\"version\"]\n",
    "            logged_model = mv[\"source\"]\n",
    "            pprint(mv, indent=4)\n",
    "            client.transition_model_version_stage(\n",
    "                name=model_name,\n",
    "                version=current_version,\n",
    "                stage='Production'\n",
    "            )\n",
    "        else:\n",
    "            current_version = mv[\"version\"]\n",
    "            client.transition_model_version_stage(\n",
    "                name=model_name,\n",
    "                version=current_version,\n",
    "                stage='Staging'\n",
    "            )"
   ]
  },
  {
   "cell_type": "code",
   "execution_count": 2,
   "id": "62c230b5-f02b-47f2-b1e4-49b04b7e5f7f",
   "metadata": {},
   "outputs": [
    {
     "data": {
      "text/plain": [
       "'/Users/sanket/Personal/Github/WineProject/notebooks'"
      ]
     },
     "execution_count": 2,
     "metadata": {},
     "output_type": "execute_result"
    }
   ],
   "source": [
    "pwd"
   ]
  },
  {
   "cell_type": "code",
   "execution_count": 3,
   "id": "177d847d-9c18-4ab1-856a-f48e91bd0278",
   "metadata": {},
   "outputs": [
    {
     "data": {
      "text/plain": [
       "'/Users/sanket/Personal/Github/WineProject/notebooks'"
      ]
     },
     "execution_count": 3,
     "metadata": {},
     "output_type": "execute_result"
    }
   ],
   "source": [
    "BASE_DIR = os.path.realpath('.')\n",
    "BASE_DIR"
   ]
  },
  {
   "cell_type": "code",
   "execution_count": 4,
   "id": "cedd858f-642c-400f-84f1-eef1a14aee70",
   "metadata": {},
   "outputs": [
    {
     "name": "stdout",
     "output_type": "stream",
     "text": [
      "/Users/sanket/Personal/Github/WineProject\n"
     ]
    }
   ],
   "source": [
    "cd .."
   ]
  },
  {
   "cell_type": "code",
   "execution_count": 5,
   "id": "6df61478-1aa5-4943-81ac-d15dc4332cef",
   "metadata": {},
   "outputs": [
    {
     "name": "stdout",
     "output_type": "stream",
     "text": [
      "Procfile           dvc.lock           \u001b[1m\u001b[36mreport\u001b[m\u001b[m             template.py\n",
      "README.md          dvc.yaml           requirements.txt   \u001b[1m\u001b[36mtests\u001b[m\u001b[m\n",
      "app.py             mlflow.db          \u001b[1m\u001b[36msaved_models\u001b[m\u001b[m       tox.ini\n",
      "\u001b[1m\u001b[36martifacts\u001b[m\u001b[m          \u001b[1m\u001b[36mnotebooks\u001b[m\u001b[m          setup.py           \u001b[1m\u001b[36mwebapp\u001b[m\u001b[m\n",
      "\u001b[1m\u001b[36mdata\u001b[m\u001b[m               params.yaml        \u001b[1m\u001b[36msrc\u001b[m\u001b[m\n",
      "\u001b[1m\u001b[36mdata_given\u001b[m\u001b[m         \u001b[1m\u001b[36mprediction_service\u001b[m\u001b[m \u001b[1m\u001b[36msrc.egg-info\u001b[m\u001b[m\n"
     ]
    }
   ],
   "source": [
    "!ls"
   ]
  },
  {
   "cell_type": "code",
   "execution_count": 6,
   "id": "505db4be-7aaa-4965-b336-2be47263a5b7",
   "metadata": {},
   "outputs": [
    {
     "name": "stdout",
     "output_type": "stream",
     "text": [
      "                             run_id experiment_id    status  \\\n",
      "0  0fae84374df049f1a362d11f32eb24a2             1  FINISHED   \n",
      "1  45456492f4fa43f8a58a5c4afc394f0e             1  FINISHED   \n",
      "2  a7bfc23b966f429a9b6a73cd0d5bad19             1  FINISHED   \n",
      "\n",
      "                                        artifact_uri  \\\n",
      "0  ./artifacts/1/0fae84374df049f1a362d11f32eb24a2...   \n",
      "1  ./artifacts/1/45456492f4fa43f8a58a5c4afc394f0e...   \n",
      "2  ./artifacts/1/a7bfc23b966f429a9b6a73cd0d5bad19...   \n",
      "\n",
      "                        start_time                         end_time  \\\n",
      "0 2021-07-14 05:15:22.753000+00:00 2021-07-14 05:15:23.133000+00:00   \n",
      "1 2021-07-14 05:14:46.831000+00:00 2021-07-14 05:14:47.858000+00:00   \n",
      "2 2021-07-13 20:01:23.450000+00:00 2021-07-13 20:01:24.247000+00:00   \n",
      "\n",
      "   metrics.mae  metrics.rmse  metrics.r2 params.l1_ratio params.alpha  \\\n",
      "0     0.655146      0.803119    0.013015             0.4          0.9   \n",
      "1     0.659818      0.805002    0.008382            0.89         0.88   \n",
      "2     0.618863      0.762795    0.109640             0.5          0.5   \n",
      "\n",
      "  tags.mlflow.source.type tags.mlflow.user tags.mlflow.runName  \\\n",
      "0                   LOCAL           sanket               mlops   \n",
      "1                   LOCAL           sanket               mlops   \n",
      "2                   LOCAL           sanket               mlops   \n",
      "\n",
      "              tags.mlflow.source.git.commit    tags.mlflow.source.name  \\\n",
      "0  08f59bb1fea8cb8a612b1fb681a77984070b7e81  src/train_and_evaluate.py   \n",
      "1  08f59bb1fea8cb8a612b1fb681a77984070b7e81  src/train_and_evaluate.py   \n",
      "2  08f59bb1fea8cb8a612b1fb681a77984070b7e81  src/train_and_evaluate.py   \n",
      "\n",
      "                       tags.mlflow.log-model.history  \n",
      "0  [{\"run_id\": \"0fae84374df049f1a362d11f32eb24a2\"...  \n",
      "1  [{\"run_id\": \"45456492f4fa43f8a58a5c4afc394f0e\"...  \n",
      "2  [{\"run_id\": \"a7bfc23b966f429a9b6a73cd0d5bad19\"...  \n",
      "{   'creation_timestamp': 1626239723121,\n",
      "    'current_stage': 'None',\n",
      "    'description': '',\n",
      "    'last_updated_timestamp': 1626239723121,\n",
      "    'name': 'ElasticNetWineModel',\n",
      "    'run_id': '0fae84374df049f1a362d11f32eb24a2',\n",
      "    'run_link': '',\n",
      "    'source': './artifacts/1/0fae84374df049f1a362d11f32eb24a2/artifacts/model',\n",
      "    'status': 'READY',\n",
      "    'status_message': '',\n",
      "    'tags': {},\n",
      "    'user_id': '',\n",
      "    'version': '3'}\n"
     ]
    }
   ],
   "source": [
    "log_production_model(\"params.yaml\")"
   ]
  },
  {
   "cell_type": "code",
   "execution_count": null,
   "id": "b933f908-2812-4e64-8398-9f2cea4436b3",
   "metadata": {},
   "outputs": [],
   "source": []
  }
 ],
 "metadata": {
  "kernelspec": {
   "display_name": "Python 3 (ipykernel)",
   "language": "python",
   "name": "python3"
  },
  "language_info": {
   "codemirror_mode": {
    "name": "ipython",
    "version": 3
   },
   "file_extension": ".py",
   "mimetype": "text/x-python",
   "name": "python",
   "nbconvert_exporter": "python",
   "pygments_lexer": "ipython3",
   "version": "3.7.10"
  }
 },
 "nbformat": 4,
 "nbformat_minor": 5
}
